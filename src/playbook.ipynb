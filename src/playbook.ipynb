{
 "cells": [
  {
   "cell_type": "code",
   "execution_count": 66,
   "metadata": {},
   "outputs": [],
   "source": [
    "import pandas as pd\n",
    "\n",
    "ogimet_df = pd.read_json('../docs/data/ogimet/ogimet.json')\n",
    "oscar_df = pd.read_json('../docs/data/oscar/oscar.json')\n",
    "oscar_df['alias'] = oscar_df['wigosStationIdentifiers'].str.split(';')\n",
    "oscar_df['closed'] = oscar_df['operational'] == 'closed'\n",
    "oscar_df = oscar_df.explode('alias')\n",
    "\n",
    "df = ogimet_df.set_index('wigos').join(oscar_df.set_index('alias'), rsuffix='_oscar')\n"
   ]
  },
  {
   "cell_type": "markdown",
   "metadata": {},
   "source": [
    "Stations marked as closed in Oscar but not in Ogimet:"
   ]
  },
  {
   "cell_type": "code",
   "execution_count": 67,
   "metadata": {},
   "outputs": [
    {
     "name": "stdout",
     "output_type": "stream",
     "text": [
      "found 101 stations\n",
      "                            wid closed_oscar  closed\n",
      "wigos                                              \n",
      "0-20000-0-66116          66116         True   False\n",
      "0-20000-0-66118          66118         True   False\n",
      "0-20000-0-66130          66130         True   False\n",
      "0-20000-0-66136          66136         True   False\n",
      "0-20000-0-66142          66142         True   False\n",
      "0-20000-0-89020          89020         True   False\n",
      "0-20000-0-11015          11017         True   False\n",
      "0-20000-0-66223          66223         True   False\n",
      "0-20000-0-66240          66240         True   False\n",
      "0-20000-0-66447          66447         True   False\n",
      "0-20000-0-66460          66460         True   False\n",
      "0-170-0-21206960         80226         True   False\n",
      "0-20000-0-66485          66485         True   False\n",
      "0-152-0-360045           85670         True   False\n",
      "0-20000-0-89646          89646         True   False\n",
      "0-20000-0-11146          11343         True   False\n",
      "0-826-0-03049             3049         True   False\n",
      "0-20000-0-03143           3154         True   False\n",
      "0-20000-0-95975          95975         True   False\n",
      "0-20000-0-91724          91723         True   False\n",
      "0-20000-0-91724          91724         True   False\n",
      "0-20000-0-03768           3766         True   False\n",
      "0-20000-0-03628           3930         True   False\n",
      "0-20000-0-06845           6645         True   False\n",
      "0-20000-0-62652          62652         True   False\n",
      "0-729-0-62725            62725         True   False\n",
      "0-20000-0-17289          17289         True   False\n",
      "0-20000-0-17289          17291         True   False\n",
      "0-20000-0-06747           6747         True   False\n",
      "0-20000-0-78951          78951         True   False\n",
      "0-20000-0-98135          98134         True   False\n",
      "0-20000-0-01024           1024         True   False\n",
      "0-508-0-67206            67206         True   False\n",
      "0-508-0-67209            67209         True   False\n",
      "0-508-0-67219            67219         True   False\n",
      "0-508-0-67226            67226         True   False\n",
      "0-508-0-67242            67242         True   False\n",
      "0-508-0-67252            67252         True   False\n",
      "0-508-0-67274            67274         True   False\n",
      "0-508-0-67286            67286         True   False\n",
      "0-508-0-67294            67294         True   False\n",
      "0-508-0-67299            67299         True   False\n",
      "0-20000-0-93436          93439         True   False\n",
      "0-508-0-67307            67307         True   False\n",
      "0-508-0-67310            67310         True   False\n",
      "0-508-0-67326            67326         True   False\n",
      "0-508-0-67328            67328         True   False\n",
      "0-508-0-67329            67329         True   False\n",
      "0-508-0-67333            67333         True   False\n",
      "0-20000-0-76551          76551         True   False\n",
      "0-20000-0-76649          76648         True   False\n",
      "0-20000-0-76681          76681         True   False\n",
      "0-20000-0-47080          47080         True   False\n",
      "0-20000-0-47081          47081         True   False\n",
      "0-20000-0-47082          47082         True   False\n",
      "0-20000-0-47083          47083         True   False\n",
      "0-20000-0-47084          47084         True   False\n",
      "0-20000-0-47086          47086         True   False\n",
      "0-20000-0-47088          47088         True   False\n",
      "0-20000-0-47107          47107         True   False\n",
      "0-20000-0-47109          47109         True   False\n",
      "0-20000-0-47111          47111         True   False\n",
      "0-20000-0-47117          47117         True   False\n",
      "0-20000-0-47123          47123         True   False\n",
      "0-20000-0-47125          47125         True   False\n",
      "0-20000-0-47128          47128         True   False\n",
      "0-20000-0-47134          47134         True   False\n",
      "0-20000-0-47139          47139         True   False\n",
      "0-20000-0-47141          47141         True   False\n",
      "0-20000-0-47142          47142         True   False\n",
      "0-20000-0-47147          47147         True   False\n",
      "0-20000-0-47149          47149         True   False\n",
      "0-20000-0-47151          47151         True   False\n",
      "0-20000-0-47153          47153         True   False\n",
      "0-20000-0-47167          47167         True   False\n",
      "0-20000-0-47178          47178         True   False\n",
      "0-20000-0-47179          47179         True   False\n",
      "0-20000-0-47180          47180         True   False\n",
      "0-20000-0-04055           4135         True   False\n",
      "0-20000-0-04065           4165         True   False\n",
      "0-20000-0-04091           4186         True   False\n",
      "0-20000-0-61720          61720         True   False\n",
      "0-20000-0-91669          91669         True   False\n",
      "0-20000-0-65501          65501         True   False\n",
      "0-20000-0-10857          10857         True   False\n",
      "0-76-0-1301209000W82425  81770         True   False\n",
      "0-76-0-2307007000W82493  81798         True   False\n",
      "0-76-0-2803005000W83195  83195         True   False\n",
      "0-76-0-3303500000W83787  83599         True   False\n",
      "0-76-0-2919801000000512  86679         True   False\n",
      "0-76-0-5102504000W83405  86726         True   False\n",
      "0-76-0-3134202000W83521  86775         True   False\n",
      "0-76-0-3204906000W83550  86786         True   False\n",
      "0-76-0-3126000000W83581  86798         True   False\n",
      "0-76-0-5002704000W83611  86810         True   False\n",
      "0-76-0-5008305000W83618  86813         True   False\n",
      "0-76-0-5002100000000475  86856         True   False\n",
      "0-76-0-3305554000W83741  86878         True   False\n",
      "0-76-0-3304557000W83660  86914         True   False\n",
      "0-76-0-4111407000W83811  86930         True   False\n",
      "0-76-0-4219002000W83923  86970         True   False\n"
     ]
    }
   ],
   "source": [
    "df = df[df['operational'].notnull()]\n",
    "df = df[df['closed_oscar'] == True]\n",
    "df = df[df['closed'] == False]\n",
    "df = df[['wid', 'closed_oscar', 'closed']]\n",
    "\n",
    "print(f\"found {len(df)} stations\\n\", df.to_string())"
   ]
  },
  {
   "cell_type": "code",
   "execution_count": null,
   "metadata": {},
   "outputs": [],
   "source": [
    "df['closed_oscar'] = df['operational'] == 'closed'\n",
    "df = df[df['operational'].notnull()]\n",
    "df = df[df['closed_oscar'] == True]\n",
    "df = df[df['closed'] == False]\n",
    "df = df[['wid_ogimet', 'closed_oscar', 'closed']]\n",
    "\n",
    "print(f\"found {len(df)} stations\\n\", df.to_string())"
   ]
  },
  {
   "cell_type": "code",
   "execution_count": 56,
   "metadata": {},
   "outputs": [
    {
     "name": "stderr",
     "output_type": "stream",
     "text": [
      "/var/folders/tg/dk5jd_sd7kl6q8ysqttl6n0h0000gn/T/ipykernel_69449/4015657111.py:1: ParserWarning: Falling back to the 'python' engine because the 'c' engine does not support regex separators (separators > 1 char and different from '\\s+' are interpreted as regex); you can avoid this warning by specifying engine='python'.\n",
      "  df = pd.read_csv('https://gist.github.com/flyingeek/54caad59410a1f4641d480473ec824c3/raw/vola_legacy_report.txt', sep=r'\\s\\s+')\n"
     ]
    },
    {
     "ename": "ParserError",
     "evalue": "Expected 4 fields in line 80, saw 5. Error could possibly be due to quotes being ignored when a multi-char delimiter is used.",
     "output_type": "error",
     "traceback": [
      "\u001b[0;31m---------------------------------------------------------------------------\u001b[0m",
      "\u001b[0;31mParserError\u001b[0m                               Traceback (most recent call last)",
      "Cell \u001b[0;32mIn[56], line 1\u001b[0m\n\u001b[0;32m----> 1\u001b[0m df \u001b[38;5;241m=\u001b[39m \u001b[43mpd\u001b[49m\u001b[38;5;241;43m.\u001b[39;49m\u001b[43mread_csv\u001b[49m\u001b[43m(\u001b[49m\u001b[38;5;124;43m'\u001b[39;49m\u001b[38;5;124;43mhttps://gist.github.com/flyingeek/54caad59410a1f4641d480473ec824c3/raw/vola_legacy_report.txt\u001b[39;49m\u001b[38;5;124;43m'\u001b[39;49m\u001b[43m,\u001b[49m\u001b[43m \u001b[49m\u001b[43msep\u001b[49m\u001b[38;5;241;43m=\u001b[39;49m\u001b[38;5;124;43mr\u001b[39;49m\u001b[38;5;124;43m'\u001b[39;49m\u001b[38;5;124;43m\\\u001b[39;49m\u001b[38;5;124;43ms\u001b[39;49m\u001b[38;5;124;43m\\\u001b[39;49m\u001b[38;5;124;43ms+\u001b[39;49m\u001b[38;5;124;43m'\u001b[39;49m\u001b[43m)\u001b[49m\n",
      "File \u001b[0;32m~/Dev/scrapy-ogimet/venv/lib/python3.12/site-packages/pandas/io/parsers/readers.py:1026\u001b[0m, in \u001b[0;36mread_csv\u001b[0;34m(filepath_or_buffer, sep, delimiter, header, names, index_col, usecols, dtype, engine, converters, true_values, false_values, skipinitialspace, skiprows, skipfooter, nrows, na_values, keep_default_na, na_filter, verbose, skip_blank_lines, parse_dates, infer_datetime_format, keep_date_col, date_parser, date_format, dayfirst, cache_dates, iterator, chunksize, compression, thousands, decimal, lineterminator, quotechar, quoting, doublequote, escapechar, comment, encoding, encoding_errors, dialect, on_bad_lines, delim_whitespace, low_memory, memory_map, float_precision, storage_options, dtype_backend)\u001b[0m\n\u001b[1;32m   1013\u001b[0m kwds_defaults \u001b[38;5;241m=\u001b[39m _refine_defaults_read(\n\u001b[1;32m   1014\u001b[0m     dialect,\n\u001b[1;32m   1015\u001b[0m     delimiter,\n\u001b[0;32m   (...)\u001b[0m\n\u001b[1;32m   1022\u001b[0m     dtype_backend\u001b[38;5;241m=\u001b[39mdtype_backend,\n\u001b[1;32m   1023\u001b[0m )\n\u001b[1;32m   1024\u001b[0m kwds\u001b[38;5;241m.\u001b[39mupdate(kwds_defaults)\n\u001b[0;32m-> 1026\u001b[0m \u001b[38;5;28;01mreturn\u001b[39;00m \u001b[43m_read\u001b[49m\u001b[43m(\u001b[49m\u001b[43mfilepath_or_buffer\u001b[49m\u001b[43m,\u001b[49m\u001b[43m \u001b[49m\u001b[43mkwds\u001b[49m\u001b[43m)\u001b[49m\n",
      "File \u001b[0;32m~/Dev/scrapy-ogimet/venv/lib/python3.12/site-packages/pandas/io/parsers/readers.py:626\u001b[0m, in \u001b[0;36m_read\u001b[0;34m(filepath_or_buffer, kwds)\u001b[0m\n\u001b[1;32m    623\u001b[0m     \u001b[38;5;28;01mreturn\u001b[39;00m parser\n\u001b[1;32m    625\u001b[0m \u001b[38;5;28;01mwith\u001b[39;00m parser:\n\u001b[0;32m--> 626\u001b[0m     \u001b[38;5;28;01mreturn\u001b[39;00m \u001b[43mparser\u001b[49m\u001b[38;5;241;43m.\u001b[39;49m\u001b[43mread\u001b[49m\u001b[43m(\u001b[49m\u001b[43mnrows\u001b[49m\u001b[43m)\u001b[49m\n",
      "File \u001b[0;32m~/Dev/scrapy-ogimet/venv/lib/python3.12/site-packages/pandas/io/parsers/readers.py:1923\u001b[0m, in \u001b[0;36mTextFileReader.read\u001b[0;34m(self, nrows)\u001b[0m\n\u001b[1;32m   1916\u001b[0m nrows \u001b[38;5;241m=\u001b[39m validate_integer(\u001b[38;5;124m\"\u001b[39m\u001b[38;5;124mnrows\u001b[39m\u001b[38;5;124m\"\u001b[39m, nrows)\n\u001b[1;32m   1917\u001b[0m \u001b[38;5;28;01mtry\u001b[39;00m:\n\u001b[1;32m   1918\u001b[0m     \u001b[38;5;66;03m# error: \"ParserBase\" has no attribute \"read\"\u001b[39;00m\n\u001b[1;32m   1919\u001b[0m     (\n\u001b[1;32m   1920\u001b[0m         index,\n\u001b[1;32m   1921\u001b[0m         columns,\n\u001b[1;32m   1922\u001b[0m         col_dict,\n\u001b[0;32m-> 1923\u001b[0m     ) \u001b[38;5;241m=\u001b[39m \u001b[38;5;28;43mself\u001b[39;49m\u001b[38;5;241;43m.\u001b[39;49m\u001b[43m_engine\u001b[49m\u001b[38;5;241;43m.\u001b[39;49m\u001b[43mread\u001b[49m\u001b[43m(\u001b[49m\u001b[43m  \u001b[49m\u001b[38;5;66;43;03m# type: ignore[attr-defined]\u001b[39;49;00m\n\u001b[1;32m   1924\u001b[0m \u001b[43m        \u001b[49m\u001b[43mnrows\u001b[49m\n\u001b[1;32m   1925\u001b[0m \u001b[43m    \u001b[49m\u001b[43m)\u001b[49m\n\u001b[1;32m   1926\u001b[0m \u001b[38;5;28;01mexcept\u001b[39;00m \u001b[38;5;167;01mException\u001b[39;00m:\n\u001b[1;32m   1927\u001b[0m     \u001b[38;5;28mself\u001b[39m\u001b[38;5;241m.\u001b[39mclose()\n",
      "File \u001b[0;32m~/Dev/scrapy-ogimet/venv/lib/python3.12/site-packages/pandas/io/parsers/python_parser.py:288\u001b[0m, in \u001b[0;36mPythonParser.read\u001b[0;34m(self, rows)\u001b[0m\n\u001b[1;32m    285\u001b[0m     indexnamerow \u001b[38;5;241m=\u001b[39m content[\u001b[38;5;241m0\u001b[39m]\n\u001b[1;32m    286\u001b[0m     content \u001b[38;5;241m=\u001b[39m content[\u001b[38;5;241m1\u001b[39m:]\n\u001b[0;32m--> 288\u001b[0m alldata \u001b[38;5;241m=\u001b[39m \u001b[38;5;28;43mself\u001b[39;49m\u001b[38;5;241;43m.\u001b[39;49m\u001b[43m_rows_to_cols\u001b[49m\u001b[43m(\u001b[49m\u001b[43mcontent\u001b[49m\u001b[43m)\u001b[49m\n\u001b[1;32m    289\u001b[0m data, columns \u001b[38;5;241m=\u001b[39m \u001b[38;5;28mself\u001b[39m\u001b[38;5;241m.\u001b[39m_exclude_implicit_index(alldata)\n\u001b[1;32m    291\u001b[0m conv_data \u001b[38;5;241m=\u001b[39m \u001b[38;5;28mself\u001b[39m\u001b[38;5;241m.\u001b[39m_convert_data(data)\n",
      "File \u001b[0;32m~/Dev/scrapy-ogimet/venv/lib/python3.12/site-packages/pandas/io/parsers/python_parser.py:1063\u001b[0m, in \u001b[0;36mPythonParser._rows_to_cols\u001b[0;34m(self, content)\u001b[0m\n\u001b[1;32m   1057\u001b[0m             reason \u001b[38;5;241m=\u001b[39m (\n\u001b[1;32m   1058\u001b[0m                 \u001b[38;5;124m\"\u001b[39m\u001b[38;5;124mError could possibly be due to quotes being \u001b[39m\u001b[38;5;124m\"\u001b[39m\n\u001b[1;32m   1059\u001b[0m                 \u001b[38;5;124m\"\u001b[39m\u001b[38;5;124mignored when a multi-char delimiter is used.\u001b[39m\u001b[38;5;124m\"\u001b[39m\n\u001b[1;32m   1060\u001b[0m             )\n\u001b[1;32m   1061\u001b[0m             msg \u001b[38;5;241m+\u001b[39m\u001b[38;5;241m=\u001b[39m \u001b[38;5;124m\"\u001b[39m\u001b[38;5;124m. \u001b[39m\u001b[38;5;124m\"\u001b[39m \u001b[38;5;241m+\u001b[39m reason\n\u001b[0;32m-> 1063\u001b[0m         \u001b[38;5;28;43mself\u001b[39;49m\u001b[38;5;241;43m.\u001b[39;49m\u001b[43m_alert_malformed\u001b[49m\u001b[43m(\u001b[49m\u001b[43mmsg\u001b[49m\u001b[43m,\u001b[49m\u001b[43m \u001b[49m\u001b[43mrow_num\u001b[49m\u001b[43m \u001b[49m\u001b[38;5;241;43m+\u001b[39;49m\u001b[43m \u001b[49m\u001b[38;5;241;43m1\u001b[39;49m\u001b[43m)\u001b[49m\n\u001b[1;32m   1065\u001b[0m \u001b[38;5;66;03m# see gh-13320\u001b[39;00m\n\u001b[1;32m   1066\u001b[0m zipped_content \u001b[38;5;241m=\u001b[39m \u001b[38;5;28mlist\u001b[39m(lib\u001b[38;5;241m.\u001b[39mto_object_array(content, min_width\u001b[38;5;241m=\u001b[39mcol_len)\u001b[38;5;241m.\u001b[39mT)\n",
      "File \u001b[0;32m~/Dev/scrapy-ogimet/venv/lib/python3.12/site-packages/pandas/io/parsers/python_parser.py:781\u001b[0m, in \u001b[0;36mPythonParser._alert_malformed\u001b[0;34m(self, msg, row_num)\u001b[0m\n\u001b[1;32m    764\u001b[0m \u001b[38;5;250m\u001b[39m\u001b[38;5;124;03m\"\"\"\u001b[39;00m\n\u001b[1;32m    765\u001b[0m \u001b[38;5;124;03mAlert a user about a malformed row, depending on value of\u001b[39;00m\n\u001b[1;32m    766\u001b[0m \u001b[38;5;124;03m`self.on_bad_lines` enum.\u001b[39;00m\n\u001b[0;32m   (...)\u001b[0m\n\u001b[1;32m    778\u001b[0m \u001b[38;5;124;03m    even though we 0-index internally.\u001b[39;00m\n\u001b[1;32m    779\u001b[0m \u001b[38;5;124;03m\"\"\"\u001b[39;00m\n\u001b[1;32m    780\u001b[0m \u001b[38;5;28;01mif\u001b[39;00m \u001b[38;5;28mself\u001b[39m\u001b[38;5;241m.\u001b[39mon_bad_lines \u001b[38;5;241m==\u001b[39m \u001b[38;5;28mself\u001b[39m\u001b[38;5;241m.\u001b[39mBadLineHandleMethod\u001b[38;5;241m.\u001b[39mERROR:\n\u001b[0;32m--> 781\u001b[0m     \u001b[38;5;28;01mraise\u001b[39;00m ParserError(msg)\n\u001b[1;32m    782\u001b[0m \u001b[38;5;28;01mif\u001b[39;00m \u001b[38;5;28mself\u001b[39m\u001b[38;5;241m.\u001b[39mon_bad_lines \u001b[38;5;241m==\u001b[39m \u001b[38;5;28mself\u001b[39m\u001b[38;5;241m.\u001b[39mBadLineHandleMethod\u001b[38;5;241m.\u001b[39mWARN:\n\u001b[1;32m    783\u001b[0m     warnings\u001b[38;5;241m.\u001b[39mwarn(\n\u001b[1;32m    784\u001b[0m         \u001b[38;5;124mf\u001b[39m\u001b[38;5;124m\"\u001b[39m\u001b[38;5;124mSkipping line \u001b[39m\u001b[38;5;132;01m{\u001b[39;00mrow_num\u001b[38;5;132;01m}\u001b[39;00m\u001b[38;5;124m: \u001b[39m\u001b[38;5;132;01m{\u001b[39;00mmsg\u001b[38;5;132;01m}\u001b[39;00m\u001b[38;5;130;01m\\n\u001b[39;00m\u001b[38;5;124m\"\u001b[39m,\n\u001b[1;32m    785\u001b[0m         ParserWarning,\n\u001b[1;32m    786\u001b[0m         stacklevel\u001b[38;5;241m=\u001b[39mfind_stack_level(),\n\u001b[1;32m    787\u001b[0m     )\n",
      "\u001b[0;31mParserError\u001b[0m: Expected 4 fields in line 80, saw 5. Error could possibly be due to quotes being ignored when a multi-char delimiter is used."
     ]
    }
   ],
   "source": [
    "df = pd.read_csv('https://gist.github.com/flyingeek/54caad59410a1f4641d480473ec824c3/raw/vola_legacy_report.txt', sep=r'\\s\\s+')"
   ]
  }
 ],
 "metadata": {
  "kernelspec": {
   "display_name": "venv",
   "language": "python",
   "name": "python3"
  },
  "language_info": {
   "codemirror_mode": {
    "name": "ipython",
    "version": 3
   },
   "file_extension": ".py",
   "mimetype": "text/x-python",
   "name": "python",
   "nbconvert_exporter": "python",
   "pygments_lexer": "ipython3",
   "version": "3.12.2"
  }
 },
 "nbformat": 4,
 "nbformat_minor": 2
}
